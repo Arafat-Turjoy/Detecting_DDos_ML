{
 "cells": [
  {
   "cell_type": "code",
   "execution_count": 1,
   "metadata": {},
   "outputs": [],
   "source": [
    "import numpy as np\n",
    "import pandas as pd"
   ]
  },
  {
   "cell_type": "code",
   "execution_count": 2,
   "metadata": {},
   "outputs": [],
   "source": [
    "data = pd.read_csv('final dataset.csv')"
   ]
  },
  {
   "cell_type": "code",
   "execution_count": 3,
   "metadata": {},
   "outputs": [],
   "source": [
    "data = data.drop_duplicates()"
   ]
  },
  {
   "cell_type": "code",
   "execution_count": 4,
   "metadata": {},
   "outputs": [],
   "source": [
    "x = data.iloc[:,:-1].values\n",
    "y = data.iloc[:,-1].values"
   ]
  },
  {
   "cell_type": "code",
   "execution_count": 5,
   "metadata": {},
   "outputs": [],
   "source": [
    "from sklearn.preprocessing import LabelEncoder\n",
    "le = LabelEncoder()\n",
    "x[:,5] = le.fit_transform(x[:,5])\n",
    "x[:,7] = le.fit_transform(x[:,7])\n",
    "x[:,12] = le.fit_transform(x[:,12])\n",
    "x[:,13] = le.fit_transform(x[:,13])\n",
    "y = le.fit_transform(y)"
   ]
  },
  {
   "cell_type": "code",
   "execution_count": 6,
   "metadata": {},
   "outputs": [
    {
     "name": "stderr",
     "output_type": "stream",
     "text": [
      "/home/turjoy/anaconda3/envs/Arafat/lib/python3.6/site-packages/sklearn/utils/validation.py:595: DataConversionWarning: Data with input dtype object was converted to float64 by MinMaxScaler.\n",
      "  warnings.warn(msg, DataConversionWarning)\n"
     ]
    }
   ],
   "source": [
    "from sklearn.preprocessing import MinMaxScaler\n",
    "scaler = MinMaxScaler(feature_range=(0, 1))\n",
    "x= scaler.fit_transform(x)"
   ]
  },
  {
   "cell_type": "code",
   "execution_count": 7,
   "metadata": {},
   "outputs": [],
   "source": [
    "from sklearn.model_selection import train_test_split\n",
    "x_train, x_test, y_train, y_test = train_test_split(\n",
    "     x, y, test_size = 0.2, random_state = 100) "
   ]
  },
  {
   "cell_type": "code",
   "execution_count": 8,
   "metadata": {},
   "outputs": [],
   "source": [
    "from sklearn.cluster import KMeans"
   ]
  },
  {
   "cell_type": "code",
   "execution_count": 9,
   "metadata": {},
   "outputs": [],
   "source": [
    "kmeans = KMeans(n_clusters=5, random_state=100)\n",
    "x_train_kmean = kmeans.fit_transform(x_train) \n",
    "x_test_kmean = kmeans.transform(x_test) "
   ]
  },
  {
   "cell_type": "code",
   "execution_count": 10,
   "metadata": {},
   "outputs": [
    {
     "name": "stderr",
     "output_type": "stream",
     "text": [
      "Using TensorFlow backend.\n"
     ]
    }
   ],
   "source": [
    "from keras.models import Sequential\n",
    "from keras.layers import Dense\n",
    "from keras.layers import Dropout\n",
    "from keras.layers import Flatten\n",
    "from keras.layers.recurrent import SimpleRNN\n",
    "from keras.layers.recurrent import LSTM \n",
    "from keras.optimizers import Adam,RMSprop\n",
    "from keras.utils import np_utils\n",
    "from keras.layers import Activation"
   ]
  },
  {
   "cell_type": "code",
   "execution_count": 11,
   "metadata": {},
   "outputs": [],
   "source": [
    "y_train_nn = np_utils.to_categorical(y_train, 5)\n",
    "y_test_nn = np_utils.to_categorical(y_test, 5)"
   ]
  },
  {
   "cell_type": "code",
   "execution_count": 12,
   "metadata": {},
   "outputs": [],
   "source": [
    "x_train_nn = np.reshape(x_train_kmean, (x_train_kmean.shape[0], 1, x_train_kmean.shape[1]))\n",
    "x_test_nn = np.reshape(x_test_kmean, (x_test_kmean.shape[0], 1, x_test_kmean.shape[1]))"
   ]
  },
  {
   "cell_type": "code",
   "execution_count": 13,
   "metadata": {},
   "outputs": [
    {
     "name": "stdout",
     "output_type": "stream",
     "text": [
      "_________________________________________________________________\n",
      "Layer (type)                 Output Shape              Param #   \n",
      "=================================================================\n",
      "simple_rnn_1 (SimpleRNN)     (None, 1, 32)             1216      \n",
      "_________________________________________________________________\n",
      "dropout_1 (Dropout)          (None, 1, 32)             0         \n",
      "_________________________________________________________________\n",
      "simple_rnn_2 (SimpleRNN)     (None, 32)                2080      \n",
      "_________________________________________________________________\n",
      "dropout_2 (Dropout)          (None, 32)                0         \n",
      "_________________________________________________________________\n",
      "dense_1 (Dense)              (None, 5)                 165       \n",
      "=================================================================\n",
      "Total params: 3,461\n",
      "Trainable params: 3,461\n",
      "Non-trainable params: 0\n",
      "_________________________________________________________________\n",
      "None\n"
     ]
    }
   ],
   "source": [
    "rnn_model = Sequential()\n",
    "rnn_model.add(SimpleRNN(32, input_shape = (1,5), return_sequences=True, kernel_initializer='uniform', activation='tanh'))\n",
    "rnn_model.add(Dropout(0.4))\n",
    "rnn_model.add(SimpleRNN(32,activation='tanh'))\n",
    "rnn_model.add(Dropout(0.4))\n",
    "rnn_model.add(Dense(units = 5,activation='softmax'))\n",
    "rnn_model.compile(loss='categorical_crossentropy', optimizer=Adam(lr=0.001, beta_1=0.9, beta_2=0.999,\n",
    "                 epsilon=None, decay=0., amsgrad=False), metrics=['accuracy'])\n",
    "print(rnn_model.summary())"
   ]
  },
  {
   "cell_type": "code",
   "execution_count": 14,
   "metadata": {},
   "outputs": [
    {
     "name": "stdout",
     "output_type": "stream",
     "text": [
      "Train on 838860 samples, validate on 209715 samples\n",
      "Epoch 1/5\n",
      "838860/838860 [==============================] - 122s 145us/step - loss: 0.1260 - acc: 0.9772 - val_loss: 0.1016 - val_acc: 0.9803\n",
      "Epoch 2/5\n",
      "838860/838860 [==============================] - 124s 148us/step - loss: 0.1082 - acc: 0.9797 - val_loss: 0.0959 - val_acc: 0.9813\n",
      "Epoch 3/5\n",
      "838860/838860 [==============================] - 125s 149us/step - loss: 0.1047 - acc: 0.9803 - val_loss: 0.0932 - val_acc: 0.9824\n",
      "Epoch 4/5\n",
      "838860/838860 [==============================] - 118s 141us/step - loss: 0.1030 - acc: 0.9807 - val_loss: 0.0946 - val_acc: 0.9826\n",
      "Epoch 5/5\n",
      "838860/838860 [==============================] - 141s 168us/step - loss: 0.1018 - acc: 0.9808 - val_loss: 0.0920 - val_acc: 0.9822\n"
     ]
    },
    {
     "data": {
      "text/plain": [
       "<keras.callbacks.History at 0x7fe8875cc470>"
      ]
     },
     "execution_count": 14,
     "metadata": {},
     "output_type": "execute_result"
    }
   ],
   "source": [
    "rnn_model.fit(x_train_nn, y_train_nn, validation_data = (x_test_nn, y_test_nn), epochs = 5, batch_size = 50)"
   ]
  },
  {
   "cell_type": "code",
   "execution_count": 15,
   "metadata": {},
   "outputs": [
    {
     "name": "stdout",
     "output_type": "stream",
     "text": [
      "209715/209715 [==============================] - 14s 67us/step\n",
      "Metrics(Test loss & Test Accuracy): \n",
      "[0.09201630861522951, 0.9821710416517655]\n"
     ]
    }
   ],
   "source": [
    "metrics = rnn_model.evaluate(x_test_nn, y_test_nn, verbose=1)\n",
    "print(\"Metrics(Test loss & Test Accuracy): \")\n",
    "print(metrics)"
   ]
  },
  {
   "cell_type": "code",
   "execution_count": 16,
   "metadata": {},
   "outputs": [],
   "source": [
    "import matplotlib.pyplot as plt\n",
    "import itertools"
   ]
  },
  {
   "cell_type": "code",
   "execution_count": 18,
   "metadata": {},
   "outputs": [],
   "source": [
    "from sklearn.metrics import confusion_matrix\n",
    "y_expect = y_test_nn\n",
    "y_expect = np.argmax(y_expect, axis=1)\n",
    "y_predict = rnn_model.predict(x_test_nn)\n",
    "y_predict = np.argmax(y_predict, axis=1)\n",
    "cm = confusion_matrix(y_expect, y_predict)"
   ]
  },
  {
   "cell_type": "code",
   "execution_count": 19,
   "metadata": {},
   "outputs": [],
   "source": [
    "accuracy = np.trace(cm) / float(np.sum(cm))\n",
    "misclass = 1 - accuracy"
   ]
  },
  {
   "cell_type": "code",
   "execution_count": 20,
   "metadata": {},
   "outputs": [],
   "source": [
    "def plot_confusion_matrix(cm,\n",
    "                          target_names,\n",
    "                          title='Confusion matrix',\n",
    "                          cmap=None,\n",
    "                          normalize=True):\n",
    "    if cmap is None:\n",
    "        cmap = plt.get_cmap('Blues')\n",
    "\n",
    "    plt.figure(figsize=(8, 6))\n",
    "    plt.imshow(cm, interpolation='nearest', cmap=cmap)\n",
    "    plt.title(title)\n",
    "    plt.colorbar()\n",
    "\n",
    "    if target_names is not None:\n",
    "        tick_marks = np.arange(len(target_names))\n",
    "        plt.xticks(tick_marks, target_names, rotation=45)\n",
    "        plt.yticks(tick_marks, target_names)\n",
    "\n",
    "    if normalize:\n",
    "        cm = cm.astype('float') / cm.sum(axis=1)[:, np.newaxis]\n",
    "\n",
    "\n",
    "    thresh = cm.max() / 1.5 if normalize else cm.max() / 2\n",
    "    for i, j in itertools.product(range(cm.shape[0]), range(cm.shape[1])):\n",
    "        if normalize:\n",
    "            plt.text(j, i, \"{:0.4f}\".format(cm[i, j]),\n",
    "                     horizontalalignment=\"center\",\n",
    "                     color=\"white\" if cm[i, j] > thresh else \"black\")\n",
    "        else:\n",
    "            plt.text(j, i, \"{:,}\".format(cm[i, j]),\n",
    "                     horizontalalignment=\"center\",\n",
    "                     color=\"white\" if cm[i, j] > thresh else \"black\")\n",
    "\n",
    "\n",
    "    plt.tight_layout()\n",
    "    plt.ylabel('True label')\n",
    "    plt.xlabel('Predicted label\\naccuracy={:0.4f}; misclass={:0.4f}'.format(accuracy, misclass))\n",
    "    plt.show()\n",
    "    "
   ]
  },
  {
   "cell_type": "code",
   "execution_count": 21,
   "metadata": {},
   "outputs": [],
   "source": [
    "class_names = ['Normal','UDP-Flood','Smurf','SIDDOS','HTTP-FLOOD']"
   ]
  },
  {
   "cell_type": "code",
   "execution_count": 33,
   "metadata": {},
   "outputs": [
    {
     "data": {
      "image/png": "[encoded data removed]",
      "text/plain": [
       "<Figure size 576x432 with 2 Axes>"
      ]
     },
     "metadata": {
      "needs_background": "light"
     },
     "output_type": "display_data"
    }
   ],
   "source": [
    "from sklearn.metrics import confusion_matrix\n",
    "y_expect = y_test_nn\n",
    "y_expect = np.argmax(y_expect, axis=1)\n",
    "y_predict = rnn_model.predict(x_test_nn)\n",
    "y_predict = np.argmax(y_predict, axis=1)\n",
    "cm = confusion_matrix(y_expect, y_predict)\n",
    "plot_confusion_matrix(cm           = cm , \n",
    "                      normalize    = False,\n",
    "                      target_names = class_names,\n",
    "                      title        = \"Confusion Matrix\")\n",
    "plt.show()"
   ]
  },
  {
   "cell_type": "code",
   "execution_count": 34,
   "metadata": {},
   "outputs": [
    {
     "name": "stdout",
     "output_type": "stream",
     "text": [
      "              precision    recall  f1-score   support\n",
      "\n",
      "           0       0.93      0.13      0.23       380\n",
      "           1       0.98      1.00      0.99    187848\n",
      "           2       0.00      0.00      0.00       607\n",
      "           3       0.76      0.29      0.42      1243\n",
      "           4       1.00      0.90      0.95     19637\n",
      "\n",
      "   micro avg       0.98      0.98      0.98    209715\n",
      "   macro avg       0.73      0.46      0.52    209715\n",
      "weighted avg       0.98      0.98      0.98    209715\n",
      "\n"
     ]
    },
    {
     "name": "stderr",
     "output_type": "stream",
     "text": [
      "/home/turjoy/anaconda3/envs/Arafat/lib/python3.6/site-packages/sklearn/metrics/classification.py:1143: UndefinedMetricWarning: Precision and F-score are ill-defined and being set to 0.0 in labels with no predicted samples.\n",
      "  'precision', 'predicted', average, warn_for)\n"
     ]
    }
   ],
   "source": [
    "from sklearn.metrics import classification_report\n",
    "print(classification_report(y_expect,y_predict))"
   ]
  },
  {
   "cell_type": "code",
   "execution_count": 35,
   "metadata": {},
   "outputs": [
    {
     "data": {
      "image/svg+xml": [
       "<svg height=\"410pt\" viewBox=\"0.00 0.00 175.00 410.00\" width=\"175pt\" xmlns=\"http://www.w3.org/2000/svg\" xmlns:xlink=\"http://www.w3.org/1999/xlink\">\n",
       "<g class=\"graph\" id=\"graph0\" transform=\"scale(1 1) rotate(0) translate(4 406)\">\n",
       "<title>G</title>\n",
       "<polygon fill=\"#ffffff\" points=\"-4,4 -4,-406 171,-406 171,4 -4,4\" stroke=\"transparent\"/>\n",
       "<!-- 140634830211280 -->\n",
       "<g class=\"node\" id=\"node1\">\n",
       "<title>140634830211280</title>\n",
       "<polygon fill=\"none\" points=\"0,-292.5 0,-328.5 167,-328.5 167,-292.5 0,-292.5\" stroke=\"#000000\"/>\n",
       "<text fill=\"#000000\" font-family=\"Times,serif\" font-size=\"14.00\" text-anchor=\"middle\" x=\"83.5\" y=\"-306.8\">simple_rnn_1: SimpleRNN</text>\n",
       "</g>\n",
       "<!-- 140634830211896 -->\n",
       "<g class=\"node\" id=\"node2\">\n",
       "<title>140634830211896</title>\n",
       "<polygon fill=\"none\" points=\"21,-219.5 21,-255.5 146,-255.5 146,-219.5 21,-219.5\" stroke=\"#000000\"/>\n",
       "<text fill=\"#000000\" font-family=\"Times,serif\" font-size=\"14.00\" text-anchor=\"middle\" x=\"83.5\" y=\"-233.8\">dropout_1: Dropout</text>\n",
       "</g>\n",
       "<!-- 140634830211280&#45;&gt;140634830211896 -->\n",
       "<g class=\"edge\" id=\"edge2\">\n",
       "<title>140634830211280-&gt;140634830211896</title>\n",
       "<path d=\"M83.5,-292.4551C83.5,-284.3828 83.5,-274.6764 83.5,-265.6817\" fill=\"none\" stroke=\"#000000\"/>\n",
       "<polygon fill=\"#000000\" points=\"87.0001,-265.5903 83.5,-255.5904 80.0001,-265.5904 87.0001,-265.5903\" stroke=\"#000000\"/>\n",
       "</g>\n",
       "<!-- 140634830213072 -->\n",
       "<g class=\"node\" id=\"node3\">\n",
       "<title>140634830213072</title>\n",
       "<polygon fill=\"none\" points=\"0,-146.5 0,-182.5 167,-182.5 167,-146.5 0,-146.5\" stroke=\"#000000\"/>\n",
       "<text fill=\"#000000\" font-family=\"Times,serif\" font-size=\"14.00\" text-anchor=\"middle\" x=\"83.5\" y=\"-160.8\">simple_rnn_2: SimpleRNN</text>\n",
       "</g>\n",
       "<!-- 140634830211896&#45;&gt;140634830213072 -->\n",
       "<g class=\"edge\" id=\"edge3\">\n",
       "<title>140634830211896-&gt;140634830213072</title>\n",
       "<path d=\"M83.5,-219.4551C83.5,-211.3828 83.5,-201.6764 83.5,-192.6817\" fill=\"none\" stroke=\"#000000\"/>\n",
       "<polygon fill=\"#000000\" points=\"87.0001,-192.5903 83.5,-182.5904 80.0001,-192.5904 87.0001,-192.5903\" stroke=\"#000000\"/>\n",
       "</g>\n",
       "<!-- 140634821171744 -->\n",
       "<g class=\"node\" id=\"node4\">\n",
       "<title>140634821171744</title>\n",
       "<polygon fill=\"none\" points=\"21,-73.5 21,-109.5 146,-109.5 146,-73.5 21,-73.5\" stroke=\"#000000\"/>\n",
       "<text fill=\"#000000\" font-family=\"Times,serif\" font-size=\"14.00\" text-anchor=\"middle\" x=\"83.5\" y=\"-87.8\">dropout_2: Dropout</text>\n",
       "</g>\n",
       "<!-- 140634830213072&#45;&gt;140634821171744 -->\n",
       "<g class=\"edge\" id=\"edge4\">\n",
       "<title>140634830213072-&gt;140634821171744</title>\n",
       "<path d=\"M83.5,-146.4551C83.5,-138.3828 83.5,-128.6764 83.5,-119.6817\" fill=\"none\" stroke=\"#000000\"/>\n",
       "<polygon fill=\"#000000\" points=\"87.0001,-119.5903 83.5,-109.5904 80.0001,-119.5904 87.0001,-119.5903\" stroke=\"#000000\"/>\n",
       "</g>\n",
       "<!-- 140634830212456 -->\n",
       "<g class=\"node\" id=\"node5\">\n",
       "<title>140634830212456</title>\n",
       "<polygon fill=\"none\" points=\"32.5,-.5 32.5,-36.5 134.5,-36.5 134.5,-.5 32.5,-.5\" stroke=\"#000000\"/>\n",
       "<text fill=\"#000000\" font-family=\"Times,serif\" font-size=\"14.00\" text-anchor=\"middle\" x=\"83.5\" y=\"-14.8\">dense_1: Dense</text>\n",
       "</g>\n",
       "<!-- 140634821171744&#45;&gt;140634830212456 -->\n",
       "<g class=\"edge\" id=\"edge5\">\n",
       "<title>140634821171744-&gt;140634830212456</title>\n",
       "<path d=\"M83.5,-73.4551C83.5,-65.3828 83.5,-55.6764 83.5,-46.6817\" fill=\"none\" stroke=\"#000000\"/>\n",
       "<polygon fill=\"#000000\" points=\"87.0001,-46.5903 83.5,-36.5904 80.0001,-46.5904 87.0001,-46.5903\" stroke=\"#000000\"/>\n",
       "</g>\n",
       "<!-- 140634830212008 -->\n",
       "<g class=\"node\" id=\"node6\">\n",
       "<title>140634830212008</title>\n",
       "<polygon fill=\"none\" points=\"24.5,-365.5 24.5,-401.5 142.5,-401.5 142.5,-365.5 24.5,-365.5\" stroke=\"#000000\"/>\n",
       "<text fill=\"#000000\" font-family=\"Times,serif\" font-size=\"14.00\" text-anchor=\"middle\" x=\"83.5\" y=\"-379.8\">140634830212008</text>\n",
       "</g>\n",
       "<!-- 140634830212008&#45;&gt;140634830211280 -->\n",
       "<g class=\"edge\" id=\"edge1\">\n",
       "<title>140634830212008-&gt;140634830211280</title>\n",
       "<path d=\"M83.5,-365.4551C83.5,-357.3828 83.5,-347.6764 83.5,-338.6817\" fill=\"none\" stroke=\"#000000\"/>\n",
       "<polygon fill=\"#000000\" points=\"87.0001,-338.5903 83.5,-328.5904 80.0001,-338.5904 87.0001,-338.5903\" stroke=\"#000000\"/>\n",
       "</g>\n",
       "</g>\n",
       "</svg>"
      ],
      "text/plain": [
       "<IPython.core.display.SVG object>"
      ]
     },
     "execution_count": 35,
     "metadata": {},
     "output_type": "execute_result"
    }
   ],
   "source": [
    "from IPython.display import SVG\n",
    "from keras.utils.vis_utils import model_to_dot\n",
    "\n",
    "SVG(model_to_dot(rnn_model).create(prog='dot', format='svg'))"
   ]
  },
  {
   "cell_type": "code",
   "execution_count": 36,
   "metadata": {},
   "outputs": [],
   "source": [
    "from keras.utils import plot_model\n",
    "plot_model(rnn_model,show_shapes=True,rankdir='TB',to_file='kmeanRnn.png')"
   ]
  },
  {
   "cell_type": "code",
   "execution_count": 37,
   "metadata": {},
   "outputs": [],
   "source": [
    "y_train_lstm = np_utils.to_categorical(y_train, 5)\n",
    "y_test_lstm = np_utils.to_categorical(y_test, 5)"
   ]
  },
  {
   "cell_type": "code",
   "execution_count": 38,
   "metadata": {},
   "outputs": [
    {
     "name": "stdout",
     "output_type": "stream",
     "text": [
      "_________________________________________________________________\n",
      "Layer (type)                 Output Shape              Param #   \n",
      "=================================================================\n",
      "lstm_1 (LSTM)                (None, 1, 30)             4320      \n",
      "_________________________________________________________________\n",
      "lstm_2 (LSTM)                (None, 1, 30)             7320      \n",
      "_________________________________________________________________\n",
      "lstm_3 (LSTM)                (None, 30)                7320      \n",
      "_________________________________________________________________\n",
      "dense_2 (Dense)              (None, 5)                 155       \n",
      "=================================================================\n",
      "Total params: 19,115\n",
      "Trainable params: 19,115\n",
      "Non-trainable params: 0\n",
      "_________________________________________________________________\n"
     ]
    }
   ],
   "source": [
    "data_dim = 5\n",
    "timesteps = 1\n",
    "\n",
    "model = Sequential()\n",
    "model.add(LSTM(30, return_sequences=True,\n",
    "               input_shape=(timesteps, data_dim)))  # returns a sequence of vectors of dimension 30\n",
    "model.add(LSTM(30, return_sequences=True))  # returns a sequence of vectors of dimension 30\n",
    "model.add(LSTM(30))  # return a single vector of dimension 30\n",
    "model.add(Dense(5, activation='softmax'))\n",
    "\n",
    "model.compile(loss='categorical_crossentropy',\n",
    "              optimizer=RMSprop(lr=0.001, rho=0.9, epsilon=None, decay=0),\n",
    "              metrics=['accuracy'])\n",
    "\n",
    "model.summary()"
   ]
  },
  {
   "cell_type": "code",
   "execution_count": 39,
   "metadata": {},
   "outputs": [],
   "source": [
    "x_train_lstm = np.reshape(x_train_kmean, (x_train_kmean.shape[0], 1, x_train_kmean.shape[1]))\n",
    "x_test_lstm = np.reshape(x_test_kmean, (x_test_kmean.shape[0], 1, x_test_kmean.shape[1]))"
   ]
  },
  {
   "cell_type": "code",
   "execution_count": 40,
   "metadata": {},
   "outputs": [
    {
     "name": "stdout",
     "output_type": "stream",
     "text": [
      "Train on 838860 samples, validate on 209715 samples\n",
      "Epoch 1/5\n",
      "838860/838860 [==============================] - 289s 345us/step - loss: 0.1030 - acc: 0.9792 - val_loss: 0.0858 - val_acc: 0.9829\n",
      "Epoch 2/5\n",
      "838860/838860 [==============================] - 276s 329us/step - loss: 0.0876 - acc: 0.9829 - val_loss: 0.0855 - val_acc: 0.9831\n",
      "Epoch 3/5\n",
      "838860/838860 [==============================] - 286s 340us/step - loss: 0.0871 - acc: 0.9835 - val_loss: 0.0842 - val_acc: 0.9842\n",
      "Epoch 4/5\n",
      "838860/838860 [==============================] - 316s 377us/step - loss: 0.0867 - acc: 0.9839 - val_loss: 0.0863 - val_acc: 0.9853\n",
      "Epoch 5/5\n",
      "838860/838860 [==============================] - 325s 387us/step - loss: 0.0871 - acc: 0.9841 - val_loss: 0.0857 - val_acc: 0.9846\n"
     ]
    },
    {
     "data": {
      "text/plain": [
       "<keras.callbacks.History at 0x7fe811660828>"
      ]
     },
     "execution_count": 40,
     "metadata": {},
     "output_type": "execute_result"
    }
   ],
   "source": [
    "model.fit(x_train_lstm, y_train_lstm,validation_data = (x_test_lstm, y_test_lstm), batch_size = 50, epochs = 5, verbose = 1)"
   ]
  },
  {
   "cell_type": "code",
   "execution_count": 41,
   "metadata": {},
   "outputs": [
    {
     "name": "stdout",
     "output_type": "stream",
     "text": [
      "209715/209715 [==============================] - 23s 111us/step\n",
      "Metrics(Test loss & Test Accuracy): \n",
      "[0.08572291525330067, 0.9845504613403905]\n"
     ]
    }
   ],
   "source": [
    "metrics = model.evaluate(x_test_lstm, y_test_lstm, verbose=1)\n",
    "print(\"Metrics(Test loss & Test Accuracy): \")\n",
    "print(metrics)"
   ]
  },
  {
   "cell_type": "code",
   "execution_count": 42,
   "metadata": {},
   "outputs": [
    {
     "data": {
      "image/png": "[encoded data removed]",
      "text/plain": [
       "<Figure size 576x432 with 2 Axes>"
      ]
     },
     "metadata": {
      "needs_background": "light"
     },
     "output_type": "display_data"
    }
   ],
   "source": [
    "from sklearn.metrics import confusion_matrix\n",
    "y_expect = y_test_lstm\n",
    "y_expect = np.argmax(y_expect, axis=1)\n",
    "y_predict = model.predict(x_test_lstm)\n",
    "y_predict = np.argmax(y_predict, axis=1)\n",
    "cm = confusion_matrix(y_expect, y_predict)\n",
    "plot_confusion_matrix(cm           = cm , \n",
    "                      normalize    = False,\n",
    "                      target_names = class_names,\n",
    "                      title        = \"Confusion Matrix of Kmean-lstm\")\n",
    "plt.show()"
   ]
  },
  {
   "cell_type": "code",
   "execution_count": 43,
   "metadata": {},
   "outputs": [
    {
     "name": "stdout",
     "output_type": "stream",
     "text": [
      "              precision    recall  f1-score   support\n",
      "\n",
      "           0       0.89      0.58      0.70       380\n",
      "           1       0.98      1.00      0.99    187848\n",
      "           2       0.89      0.53      0.66       607\n",
      "           3       0.78      0.33      0.46      1243\n",
      "           4       1.00      0.90      0.95     19637\n",
      "\n",
      "   micro avg       0.98      0.98      0.98    209715\n",
      "   macro avg       0.91      0.67      0.75    209715\n",
      "weighted avg       0.98      0.98      0.98    209715\n",
      "\n"
     ]
    }
   ],
   "source": [
    "print(classification_report(y_expect,y_predict))"
   ]
  },
  {
   "cell_type": "code",
   "execution_count": 44,
   "metadata": {},
   "outputs": [
    {
     "data": {
      "image/svg+xml": [
       "<svg height=\"337pt\" viewBox=\"0.00 0.00 126.00 337.00\" width=\"126pt\" xmlns=\"http://www.w3.org/2000/svg\" xmlns:xlink=\"http://www.w3.org/1999/xlink\">\n",
       "<g class=\"graph\" id=\"graph0\" transform=\"scale(1 1) rotate(0) translate(4 333)\">\n",
       "<title>G</title>\n",
       "<polygon fill=\"#ffffff\" points=\"-4,4 -4,-333 122,-333 122,4 -4,4\" stroke=\"transparent\"/>\n",
       "<!-- 140634704885856 -->\n",
       "<g class=\"node\" id=\"node1\">\n",
       "<title>140634704885856</title>\n",
       "<polygon fill=\"none\" points=\"10,-219.5 10,-255.5 108,-255.5 108,-219.5 10,-219.5\" stroke=\"#000000\"/>\n",
       "<text fill=\"#000000\" font-family=\"Times,serif\" font-size=\"14.00\" text-anchor=\"middle\" x=\"59\" y=\"-233.8\">lstm_1: LSTM</text>\n",
       "</g>\n",
       "<!-- 140634703588208 -->\n",
       "<g class=\"node\" id=\"node2\">\n",
       "<title>140634703588208</title>\n",
       "<polygon fill=\"none\" points=\"10,-146.5 10,-182.5 108,-182.5 108,-146.5 10,-146.5\" stroke=\"#000000\"/>\n",
       "<text fill=\"#000000\" font-family=\"Times,serif\" font-size=\"14.00\" text-anchor=\"middle\" x=\"59\" y=\"-160.8\">lstm_2: LSTM</text>\n",
       "</g>\n",
       "<!-- 140634704885856&#45;&gt;140634703588208 -->\n",
       "<g class=\"edge\" id=\"edge2\">\n",
       "<title>140634704885856-&gt;140634703588208</title>\n",
       "<path d=\"M59,-219.4551C59,-211.3828 59,-201.6764 59,-192.6817\" fill=\"none\" stroke=\"#000000\"/>\n",
       "<polygon fill=\"#000000\" points=\"62.5001,-192.5903 59,-182.5904 55.5001,-192.5904 62.5001,-192.5903\" stroke=\"#000000\"/>\n",
       "</g>\n",
       "<!-- 140634704884456 -->\n",
       "<g class=\"node\" id=\"node3\">\n",
       "<title>140634704884456</title>\n",
       "<polygon fill=\"none\" points=\"10,-73.5 10,-109.5 108,-109.5 108,-73.5 10,-73.5\" stroke=\"#000000\"/>\n",
       "<text fill=\"#000000\" font-family=\"Times,serif\" font-size=\"14.00\" text-anchor=\"middle\" x=\"59\" y=\"-87.8\">lstm_3: LSTM</text>\n",
       "</g>\n",
       "<!-- 140634703588208&#45;&gt;140634704884456 -->\n",
       "<g class=\"edge\" id=\"edge3\">\n",
       "<title>140634703588208-&gt;140634704884456</title>\n",
       "<path d=\"M59,-146.4551C59,-138.3828 59,-128.6764 59,-119.6817\" fill=\"none\" stroke=\"#000000\"/>\n",
       "<polygon fill=\"#000000\" points=\"62.5001,-119.5903 59,-109.5904 55.5001,-119.5904 62.5001,-119.5903\" stroke=\"#000000\"/>\n",
       "</g>\n",
       "<!-- 140634703361360 -->\n",
       "<g class=\"node\" id=\"node4\">\n",
       "<title>140634703361360</title>\n",
       "<polygon fill=\"none\" points=\"8,-.5 8,-36.5 110,-36.5 110,-.5 8,-.5\" stroke=\"#000000\"/>\n",
       "<text fill=\"#000000\" font-family=\"Times,serif\" font-size=\"14.00\" text-anchor=\"middle\" x=\"59\" y=\"-14.8\">dense_2: Dense</text>\n",
       "</g>\n",
       "<!-- 140634704884456&#45;&gt;140634703361360 -->\n",
       "<g class=\"edge\" id=\"edge4\">\n",
       "<title>140634704884456-&gt;140634703361360</title>\n",
       "<path d=\"M59,-73.4551C59,-65.3828 59,-55.6764 59,-46.6817\" fill=\"none\" stroke=\"#000000\"/>\n",
       "<polygon fill=\"#000000\" points=\"62.5001,-46.5903 59,-36.5904 55.5001,-46.5904 62.5001,-46.5903\" stroke=\"#000000\"/>\n",
       "</g>\n",
       "<!-- 140634704885184 -->\n",
       "<g class=\"node\" id=\"node5\">\n",
       "<title>140634704885184</title>\n",
       "<polygon fill=\"none\" points=\"0,-292.5 0,-328.5 118,-328.5 118,-292.5 0,-292.5\" stroke=\"#000000\"/>\n",
       "<text fill=\"#000000\" font-family=\"Times,serif\" font-size=\"14.00\" text-anchor=\"middle\" x=\"59\" y=\"-306.8\">140634704885184</text>\n",
       "</g>\n",
       "<!-- 140634704885184&#45;&gt;140634704885856 -->\n",
       "<g class=\"edge\" id=\"edge1\">\n",
       "<title>140634704885184-&gt;140634704885856</title>\n",
       "<path d=\"M59,-292.4551C59,-284.3828 59,-274.6764 59,-265.6817\" fill=\"none\" stroke=\"#000000\"/>\n",
       "<polygon fill=\"#000000\" points=\"62.5001,-265.5903 59,-255.5904 55.5001,-265.5904 62.5001,-265.5903\" stroke=\"#000000\"/>\n",
       "</g>\n",
       "</g>\n",
       "</svg>"
      ],
      "text/plain": [
       "<IPython.core.display.SVG object>"
      ]
     },
     "execution_count": 44,
     "metadata": {},
     "output_type": "execute_result"
    }
   ],
   "source": [
    "from IPython.display import SVG\n",
    "from keras.utils.vis_utils import model_to_dot\n",
    "\n",
    "SVG(model_to_dot(model).create(prog='dot', format='svg'))"
   ]
  },
  {
   "cell_type": "code",
   "execution_count": 45,
   "metadata": {},
   "outputs": [],
   "source": [
    "from keras.utils import plot_model\n",
    "plot_model(model,show_shapes=True,rankdir='TB',to_file='kmeanLstm.png')"
   ]
  },
  {
   "cell_type": "code",
   "execution_count": null,
   "metadata": {},
   "outputs": [],
   "source": []
  }
 ],
 "metadata": {
  "kernelspec": {
   "display_name": "Python 3",
   "language": "python",
   "name": "python3"
  },
  "language_info": {
   "codemirror_mode": {
    "name": "ipython",
    "version": 3
   },
   "file_extension": ".py",
   "mimetype": "text/x-python",
   "name": "python",
   "nbconvert_exporter": "python",
   "pygments_lexer": "ipython3",
   "version": "3.7.4"
  }
 },
 "nbformat": 4,
 "nbformat_minor": 2
}
