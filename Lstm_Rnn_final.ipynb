{
 "cells": [
  {
   "cell_type": "code",
   "execution_count": 1,
   "metadata": {},
   "outputs": [],
   "source": [
    "import numpy as np\n",
    "import pandas as pd"
   ]
  },
  {
   "cell_type": "code",
   "execution_count": 2,
   "metadata": {},
   "outputs": [],
   "source": [
    "data = pd.read_csv('final dataset.csv')"
   ]
  },
  {
   "cell_type": "code",
   "execution_count": 3,
   "metadata": {},
   "outputs": [],
   "source": [
    "data = data.drop_duplicates()"
   ]
  },
  {
   "cell_type": "code",
   "execution_count": 4,
   "metadata": {},
   "outputs": [],
   "source": [
    "x = data.iloc[:,:-1].values\n",
    "y = data.iloc[:,-1].values"
   ]
  },
  {
   "cell_type": "code",
   "execution_count": 5,
   "metadata": {},
   "outputs": [],
   "source": [
    "from sklearn.preprocessing import LabelEncoder\n",
    "le = LabelEncoder()\n",
    "x[:,5] = le.fit_transform(x[:,5])\n",
    "x[:,7] = le.fit_transform(x[:,7])\n",
    "x[:,12] = le.fit_transform(x[:,12])\n",
    "x[:,13] = le.fit_transform(x[:,13])\n",
    "y = le.fit_transform(y)"
   ]
  },
  {
   "cell_type": "code",
   "execution_count": 6,
   "metadata": {},
   "outputs": [
    {
     "name": "stderr",
     "output_type": "stream",
     "text": [
      "/home/turjoy/anaconda3/envs/Arafat/lib/python3.6/site-packages/sklearn/utils/validation.py:595: DataConversionWarning: Data with input dtype object was converted to float64 by MinMaxScaler.\n",
      "  warnings.warn(msg, DataConversionWarning)\n"
     ]
    }
   ],
   "source": [
    "from sklearn.preprocessing import MinMaxScaler\n",
    "scaler = MinMaxScaler(feature_range=(0, 1))\n",
    "x= scaler.fit_transform(x)"
   ]
  },
  {
   "cell_type": "code",
   "execution_count": 7,
   "metadata": {},
   "outputs": [],
   "source": [
    "from sklearn.model_selection import train_test_split\n",
    "x_train, x_test, y_train, y_test = train_test_split(\n",
    "     x, y, test_size = 0.2, random_state = 100) "
   ]
  },
  {
   "cell_type": "code",
   "execution_count": 8,
   "metadata": {},
   "outputs": [
    {
     "name": "stderr",
     "output_type": "stream",
     "text": [
      "Using TensorFlow backend.\n"
     ]
    }
   ],
   "source": [
    "from keras.models import Sequential\n",
    "from keras.layers import Dense\n",
    "from keras.layers import Dropout\n",
    "from keras.layers import Flatten\n",
    "from keras.layers.recurrent import SimpleRNN\n",
    "from keras.layers.recurrent import LSTM \n",
    "from keras.optimizers import Adam,RMSprop\n",
    "from keras.utils import np_utils\n",
    "from keras.layers import Activation"
   ]
  },
  {
   "cell_type": "code",
   "execution_count": 9,
   "metadata": {},
   "outputs": [],
   "source": [
    "y_train_nn = np_utils.to_categorical(y_train, 5)\n",
    "y_test_nn = np_utils.to_categorical(y_test, 5)"
   ]
  },
  {
   "cell_type": "code",
   "execution_count": 10,
   "metadata": {},
   "outputs": [],
   "source": [
    "x_train_nn = np.reshape(x_train, (x_train.shape[0], 1, x_train.shape[1]))\n",
    "x_test_nn = np.reshape(x_test, (x_test.shape[0], 1, x_test.shape[1]))"
   ]
  },
  {
   "cell_type": "code",
   "execution_count": 13,
   "metadata": {},
   "outputs": [
    {
     "name": "stdout",
     "output_type": "stream",
     "text": [
      "_________________________________________________________________\n",
      "Layer (type)                 Output Shape              Param #   \n",
      "=================================================================\n",
      "simple_rnn_3 (SimpleRNN)     (None, 1, 32)             1920      \n",
      "_________________________________________________________________\n",
      "dropout_3 (Dropout)          (None, 1, 32)             0         \n",
      "_________________________________________________________________\n",
      "simple_rnn_4 (SimpleRNN)     (None, 32)                2080      \n",
      "_________________________________________________________________\n",
      "dropout_4 (Dropout)          (None, 32)                0         \n",
      "_________________________________________________________________\n",
      "dense_2 (Dense)              (None, 5)                 165       \n",
      "=================================================================\n",
      "Total params: 4,165\n",
      "Trainable params: 4,165\n",
      "Non-trainable params: 0\n",
      "_________________________________________________________________\n",
      "None\n"
     ]
    }
   ],
   "source": [
    "rnn_model = Sequential()\n",
    "rnn_model.add(SimpleRNN(32, input_shape = (1,27), return_sequences=True,\n",
    "                 activation='tanh',\n",
    "                 use_bias=True,\n",
    "                 kernel_initializer='glorot_uniform',\n",
    "                 recurrent_initializer='orthogonal',\n",
    "                 bias_initializer='zeros',\n",
    "                 kernel_regularizer=None,\n",
    "                 recurrent_regularizer=None,\n",
    "                 bias_regularizer=None,\n",
    "                 activity_regularizer=None,\n",
    "                 kernel_constraint=None,\n",
    "                 recurrent_constraint=None,\n",
    "                 bias_constraint=None,\n",
    "                 dropout=0.,\n",
    "                 recurrent_dropout=0.,\n",
    "                 return_state=False,\n",
    "                 go_backwards=False,\n",
    "                 stateful=False,\n",
    "                 unroll=False,))\n",
    "rnn_model.add(Dropout(0.4))\n",
    "rnn_model.add(SimpleRNN(32,activation='tanh',return_sequences=False))\n",
    "rnn_model.add(Dropout(0.4))\n",
    "rnn_model.add(Dense(units = 5,activation='softmax'))\n",
    "rnn_model.compile(loss='categorical_crossentropy', optimizer=Adam(lr=0.001, beta_1=0.9, beta_2=0.999,\n",
    "                 epsilon=None, decay=0., amsgrad=False), metrics=['accuracy'])\n",
    "print(rnn_model.summary())"
   ]
  },
  {
   "cell_type": "code",
   "execution_count": 14,
   "metadata": {},
   "outputs": [
    {
     "name": "stdout",
     "output_type": "stream",
     "text": [
      "Train on 838860 samples, validate on 209715 samples\n",
      "Epoch 1/5\n",
      "838860/838860 [==============================] - 118s 141us/step - loss: 0.0974 - acc: 0.9838 - val_loss: 0.0818 - val_acc: 0.9861\n",
      "Epoch 2/5\n",
      "838860/838860 [==============================] - 116s 138us/step - loss: 0.0884 - acc: 0.9857 - val_loss: 0.0809 - val_acc: 0.9862\n",
      "Epoch 3/5\n",
      "838860/838860 [==============================] - 127s 151us/step - loss: 0.0873 - acc: 0.9859 - val_loss: 0.0805 - val_acc: 0.9864\n",
      "Epoch 4/5\n",
      "838860/838860 [==============================] - 129s 154us/step - loss: 0.0866 - acc: 0.9860 - val_loss: 0.0798 - val_acc: 0.9865\n",
      "Epoch 5/5\n",
      "838860/838860 [==============================] - 133s 159us/step - loss: 0.0863 - acc: 0.9861 - val_loss: 0.0801 - val_acc: 0.9865\n"
     ]
    },
    {
     "data": {
      "text/plain": [
       "<keras.callbacks.History at 0x7f677696b320>"
      ]
     },
     "execution_count": 14,
     "metadata": {},
     "output_type": "execute_result"
    }
   ],
   "source": [
    "rnn_model.fit(x_train_nn, y_train_nn, validation_data = (x_test_nn, y_test_nn), epochs = 5, batch_size = 50)"
   ]
  },
  {
   "cell_type": "code",
   "execution_count": 15,
   "metadata": {},
   "outputs": [
    {
     "name": "stdout",
     "output_type": "stream",
     "text": [
      "209715/209715 [==============================] - 11s 51us/step\n",
      "Metrics(Test loss & Test Accuracy): \n",
      "[0.08006045218742128, 0.9865054955534892]\n"
     ]
    }
   ],
   "source": [
    "metrics = rnn_model.evaluate(x_test_nn, y_test_nn, verbose=1)\n",
    "print(\"Metrics(Test loss & Test Accuracy): \")\n",
    "print(metrics)"
   ]
  },
  {
   "cell_type": "code",
   "execution_count": 17,
   "metadata": {},
   "outputs": [],
   "source": [
    "import pylab as pl"
   ]
  },
  {
   "cell_type": "code",
   "execution_count": 18,
   "metadata": {},
   "outputs": [
    {
     "name": "stdout",
     "output_type": "stream",
     "text": [
      "[[   357      2     21      0      0]\n",
      " [     5 187819     24      0      0]\n",
      " [     0     40    567      0      0]\n",
      " [     6    800     33    404      0]\n",
      " [     0   1899      0      0  17738]]\n"
     ]
    },
    {
     "data": {
      "image/png": "[encoded data removed]",
      "text/plain": [
       "<Figure size 288x288 with 2 Axes>"
      ]
     },
     "metadata": {
      "needs_background": "light"
     },
     "output_type": "display_data"
    }
   ],
   "source": [
    "from sklearn.metrics import confusion_matrix\n",
    "y_expect = y_test_nn\n",
    "y_expect = np.argmax(y_expect, axis=1)\n",
    "y_predict = rnn_model.predict(x_test_nn)\n",
    "y_predict = np.argmax(y_predict, axis=1)\n",
    "cm = confusion_matrix(y_expect, y_predict)\n",
    "pl.matshow(cm)\n",
    "print (cm)\n",
    "pl.title('Confusion matrix of the rnn\\n')\n",
    "pl.colorbar()\n",
    "pl.show()"
   ]
  },
  {
   "cell_type": "code",
   "execution_count": 37,
   "metadata": {},
   "outputs": [],
   "source": [
    "import matplotlib.pyplot as plt"
   ]
  },
  {
   "cell_type": "code",
   "execution_count": 19,
   "metadata": {},
   "outputs": [
    {
     "name": "stdout",
     "output_type": "stream",
     "text": [
      "              precision    recall  f1-score   support\n",
      "\n",
      "           0       0.97      0.94      0.95       380\n",
      "           1       0.99      1.00      0.99    187848\n",
      "           2       0.88      0.93      0.91       607\n",
      "           3       1.00      0.33      0.49      1243\n",
      "           4       1.00      0.90      0.95     19637\n",
      "\n",
      "   micro avg       0.99      0.99      0.99    209715\n",
      "   macro avg       0.97      0.82      0.86    209715\n",
      "weighted avg       0.99      0.99      0.99    209715\n",
      "\n"
     ]
    }
   ],
   "source": [
    "from sklearn.metrics import classification_report\n",
    "print(classification_report(y_expect,y_predict))"
   ]
  },
  {
   "cell_type": "code",
   "execution_count": 20,
   "metadata": {},
   "outputs": [
    {
     "data": {
      "image/svg+xml": [
       "<svg height=\"410pt\" viewBox=\"0.00 0.00 175.00 410.00\" width=\"175pt\" xmlns=\"http://www.w3.org/2000/svg\" xmlns:xlink=\"http://www.w3.org/1999/xlink\">\n",
       "<g class=\"graph\" id=\"graph0\" transform=\"scale(1 1) rotate(0) translate(4 406)\">\n",
       "<title>G</title>\n",
       "<polygon fill=\"#ffffff\" points=\"-4,4 -4,-406 171,-406 171,4 -4,4\" stroke=\"transparent\"/>\n",
       "<!-- 140082336837360 -->\n",
       "<g class=\"node\" id=\"node1\">\n",
       "<title>140082336837360</title>\n",
       "<polygon fill=\"none\" points=\"0,-292.5 0,-328.5 167,-328.5 167,-292.5 0,-292.5\" stroke=\"#000000\"/>\n",
       "<text fill=\"#000000\" font-family=\"Times,serif\" font-size=\"14.00\" text-anchor=\"middle\" x=\"83.5\" y=\"-306.8\">simple_rnn_3: SimpleRNN</text>\n",
       "</g>\n",
       "<!-- 140082336834616 -->\n",
       "<g class=\"node\" id=\"node2\">\n",
       "<title>140082336834616</title>\n",
       "<polygon fill=\"none\" points=\"21,-219.5 21,-255.5 146,-255.5 146,-219.5 21,-219.5\" stroke=\"#000000\"/>\n",
       "<text fill=\"#000000\" font-family=\"Times,serif\" font-size=\"14.00\" text-anchor=\"middle\" x=\"83.5\" y=\"-233.8\">dropout_3: Dropout</text>\n",
       "</g>\n",
       "<!-- 140082336837360&#45;&gt;140082336834616 -->\n",
       "<g class=\"edge\" id=\"edge2\">\n",
       "<title>140082336837360-&gt;140082336834616</title>\n",
       "<path d=\"M83.5,-292.4551C83.5,-284.3828 83.5,-274.6764 83.5,-265.6817\" fill=\"none\" stroke=\"#000000\"/>\n",
       "<polygon fill=\"#000000\" points=\"87.0001,-265.5903 83.5,-255.5904 80.0001,-265.5904 87.0001,-265.5903\" stroke=\"#000000\"/>\n",
       "</g>\n",
       "<!-- 140082335828400 -->\n",
       "<g class=\"node\" id=\"node3\">\n",
       "<title>140082335828400</title>\n",
       "<polygon fill=\"none\" points=\"0,-146.5 0,-182.5 167,-182.5 167,-146.5 0,-146.5\" stroke=\"#000000\"/>\n",
       "<text fill=\"#000000\" font-family=\"Times,serif\" font-size=\"14.00\" text-anchor=\"middle\" x=\"83.5\" y=\"-160.8\">simple_rnn_4: SimpleRNN</text>\n",
       "</g>\n",
       "<!-- 140082336834616&#45;&gt;140082335828400 -->\n",
       "<g class=\"edge\" id=\"edge3\">\n",
       "<title>140082336834616-&gt;140082335828400</title>\n",
       "<path d=\"M83.5,-219.4551C83.5,-211.3828 83.5,-201.6764 83.5,-192.6817\" fill=\"none\" stroke=\"#000000\"/>\n",
       "<polygon fill=\"#000000\" points=\"87.0001,-192.5903 83.5,-182.5904 80.0001,-192.5904 87.0001,-192.5903\" stroke=\"#000000\"/>\n",
       "</g>\n",
       "<!-- 140082335827392 -->\n",
       "<g class=\"node\" id=\"node4\">\n",
       "<title>140082335827392</title>\n",
       "<polygon fill=\"none\" points=\"21,-73.5 21,-109.5 146,-109.5 146,-73.5 21,-73.5\" stroke=\"#000000\"/>\n",
       "<text fill=\"#000000\" font-family=\"Times,serif\" font-size=\"14.00\" text-anchor=\"middle\" x=\"83.5\" y=\"-87.8\">dropout_4: Dropout</text>\n",
       "</g>\n",
       "<!-- 140082335828400&#45;&gt;140082335827392 -->\n",
       "<g class=\"edge\" id=\"edge4\">\n",
       "<title>140082335828400-&gt;140082335827392</title>\n",
       "<path d=\"M83.5,-146.4551C83.5,-138.3828 83.5,-128.6764 83.5,-119.6817\" fill=\"none\" stroke=\"#000000\"/>\n",
       "<polygon fill=\"#000000\" points=\"87.0001,-119.5903 83.5,-109.5904 80.0001,-119.5904 87.0001,-119.5903\" stroke=\"#000000\"/>\n",
       "</g>\n",
       "<!-- 140082334614304 -->\n",
       "<g class=\"node\" id=\"node5\">\n",
       "<title>140082334614304</title>\n",
       "<polygon fill=\"none\" points=\"32.5,-.5 32.5,-36.5 134.5,-36.5 134.5,-.5 32.5,-.5\" stroke=\"#000000\"/>\n",
       "<text fill=\"#000000\" font-family=\"Times,serif\" font-size=\"14.00\" text-anchor=\"middle\" x=\"83.5\" y=\"-14.8\">dense_2: Dense</text>\n",
       "</g>\n",
       "<!-- 140082335827392&#45;&gt;140082334614304 -->\n",
       "<g class=\"edge\" id=\"edge5\">\n",
       "<title>140082335827392-&gt;140082334614304</title>\n",
       "<path d=\"M83.5,-73.4551C83.5,-65.3828 83.5,-55.6764 83.5,-46.6817\" fill=\"none\" stroke=\"#000000\"/>\n",
       "<polygon fill=\"#000000\" points=\"87.0001,-46.5903 83.5,-36.5904 80.0001,-46.5904 87.0001,-46.5903\" stroke=\"#000000\"/>\n",
       "</g>\n",
       "<!-- 140082335827672 -->\n",
       "<g class=\"node\" id=\"node6\">\n",
       "<title>140082335827672</title>\n",
       "<polygon fill=\"none\" points=\"24.5,-365.5 24.5,-401.5 142.5,-401.5 142.5,-365.5 24.5,-365.5\" stroke=\"#000000\"/>\n",
       "<text fill=\"#000000\" font-family=\"Times,serif\" font-size=\"14.00\" text-anchor=\"middle\" x=\"83.5\" y=\"-379.8\">140082335827672</text>\n",
       "</g>\n",
       "<!-- 140082335827672&#45;&gt;140082336837360 -->\n",
       "<g class=\"edge\" id=\"edge1\">\n",
       "<title>140082335827672-&gt;140082336837360</title>\n",
       "<path d=\"M83.5,-365.4551C83.5,-357.3828 83.5,-347.6764 83.5,-338.6817\" fill=\"none\" stroke=\"#000000\"/>\n",
       "<polygon fill=\"#000000\" points=\"87.0001,-338.5903 83.5,-328.5904 80.0001,-338.5904 87.0001,-338.5903\" stroke=\"#000000\"/>\n",
       "</g>\n",
       "</g>\n",
       "</svg>"
      ],
      "text/plain": [
       "<IPython.core.display.SVG object>"
      ]
     },
     "execution_count": 20,
     "metadata": {},
     "output_type": "execute_result"
    }
   ],
   "source": [
    "from IPython.display import SVG\n",
    "from keras.utils.vis_utils import model_to_dot\n",
    "\n",
    "SVG(model_to_dot(rnn_model).create(prog='dot', format='svg'))"
   ]
  },
  {
   "cell_type": "code",
   "execution_count": 39,
   "metadata": {},
   "outputs": [],
   "source": [
    "from keras.utils import plot_model\n",
    "plot_model(rnn_model,show_shapes=True,rankdir='TB',to_file='model.png')"
   ]
  },
  {
   "cell_type": "code",
   "execution_count": 21,
   "metadata": {},
   "outputs": [],
   "source": [
    "y_train_lstm = np_utils.to_categorical(y_train, 5)\n",
    "y_test_lstm = np_utils.to_categorical(y_test, 5)"
   ]
  },
  {
   "cell_type": "code",
   "execution_count": 22,
   "metadata": {},
   "outputs": [],
   "source": [
    "x_train_lstm = np.reshape(x_train, (x_train.shape[0], 1, x_train.shape[1]))\n",
    "x_test_lstm = np.reshape(x_test, (x_test.shape[0], 1, x_test.shape[1]))"
   ]
  },
  {
   "cell_type": "code",
   "execution_count": 23,
   "metadata": {},
   "outputs": [
    {
     "name": "stdout",
     "output_type": "stream",
     "text": [
      "_________________________________________________________________\n",
      "Layer (type)                 Output Shape              Param #   \n",
      "=================================================================\n",
      "lstm_1 (LSTM)                (None, 1, 30)             6960      \n",
      "_________________________________________________________________\n",
      "lstm_2 (LSTM)                (None, 1, 30)             7320      \n",
      "_________________________________________________________________\n",
      "lstm_3 (LSTM)                (None, 30)                7320      \n",
      "_________________________________________________________________\n",
      "dense_3 (Dense)              (None, 5)                 155       \n",
      "=================================================================\n",
      "Total params: 21,755\n",
      "Trainable params: 21,755\n",
      "Non-trainable params: 0\n",
      "_________________________________________________________________\n"
     ]
    }
   ],
   "source": [
    "data_dim = 27\n",
    "timesteps = 1\n",
    "model = Sequential()\n",
    "model.add(LSTM(30, return_sequences=True,\n",
    "               input_shape=(timesteps, data_dim),activation='tanh',\n",
    "                 recurrent_activation='hard_sigmoid',\n",
    "                 use_bias=True,\n",
    "                 kernel_initializer='glorot_uniform',\n",
    "                 recurrent_initializer='orthogonal',\n",
    "                 bias_initializer='zeros',\n",
    "                 unit_forget_bias=True,\n",
    "                 kernel_regularizer=None,\n",
    "                 recurrent_regularizer=None,\n",
    "                 bias_regularizer=None,\n",
    "                 activity_regularizer=None,\n",
    "                 kernel_constraint=None,\n",
    "                 recurrent_constraint=None,\n",
    "                 bias_constraint=None,\n",
    "                 dropout=0.,\n",
    "                 recurrent_dropout=0.,\n",
    "                 implementation=1,\n",
    "                 return_state=False,\n",
    "                 go_backwards=False,\n",
    "                 stateful=False,\n",
    "                 unroll=False,))  # returns a sequence of vectors of dimension 30\n",
    "model.add(LSTM(30, return_sequences=True))  # returns a sequence of vectors of dimension 30\n",
    "model.add(LSTM(30))  # return a single vector of dimension 30\n",
    "model.add(Dense(5, activation='softmax'))\n",
    "\n",
    "model.compile(loss='categorical_crossentropy',\n",
    "              optimizer=RMSprop(lr=0.001, rho=0.9, epsilon=None, decay=0),\n",
    "              metrics=['accuracy'])\n",
    "\n",
    "model.summary()"
   ]
  },
  {
   "cell_type": "code",
   "execution_count": 24,
   "metadata": {},
   "outputs": [
    {
     "name": "stdout",
     "output_type": "stream",
     "text": [
      "Train on 838860 samples, validate on 209715 samples\n",
      "Epoch 1/5\n",
      "838860/838860 [==============================] - 307s 365us/step - loss: 0.0898 - acc: 0.9842 - val_loss: 0.0800 - val_acc: 0.9863\n",
      "Epoch 2/5\n",
      "838860/838860 [==============================] - 336s 401us/step - loss: 0.0817 - acc: 0.9861 - val_loss: 0.0819 - val_acc: 0.9864\n",
      "Epoch 3/5\n",
      "838860/838860 [==============================] - 339s 404us/step - loss: 0.0828 - acc: 0.9861 - val_loss: 0.0820 - val_acc: 0.9864\n",
      "Epoch 4/5\n",
      "838860/838860 [==============================] - 308s 367us/step - loss: 0.0830 - acc: 0.9862 - val_loss: 0.0819 - val_acc: 0.9865\n",
      "Epoch 5/5\n",
      "838860/838860 [==============================] - 332s 396us/step - loss: 0.0839 - acc: 0.9862 - val_loss: 0.0818 - val_acc: 0.9864\n"
     ]
    },
    {
     "data": {
      "text/plain": [
       "<keras.callbacks.History at 0x7f6758474d68>"
      ]
     },
     "execution_count": 24,
     "metadata": {},
     "output_type": "execute_result"
    }
   ],
   "source": [
    "model.fit(x_train_lstm, y_train_lstm,validation_data = (x_test_lstm, y_test_lstm), batch_size = 50, epochs = 5, verbose = 1)"
   ]
  },
  {
   "cell_type": "code",
   "execution_count": 25,
   "metadata": {},
   "outputs": [
    {
     "name": "stdout",
     "output_type": "stream",
     "text": [
      "209715/209715 [==============================] - 19s 90us/step\n",
      "Metrics(Test loss & Test Accuracy): \n",
      "[0.0818196652919593, 0.9864101280308991]\n"
     ]
    }
   ],
   "source": [
    "metrics = model.evaluate(x_test_lstm, y_test_lstm, verbose=1)\n",
    "print(\"Metrics(Test loss & Test Accuracy): \")\n",
    "print(metrics)"
   ]
  },
  {
   "cell_type": "code",
   "execution_count": 26,
   "metadata": {},
   "outputs": [
    {
     "name": "stdout",
     "output_type": "stream",
     "text": [
      "[[   342      3     23     12      0]\n",
      " [     7 187815     23      3      0]\n",
      " [     0     40    567      0      0]\n",
      " [     6    800     33    404      0]\n",
      " [     0   1900      0      0  17737]]\n"
     ]
    },
    {
     "data": {
      "image/png": "[encoded data removed]",
      "text/plain": [
       "<Figure size 288x288 with 2 Axes>"
      ]
     },
     "metadata": {
      "needs_background": "light"
     },
     "output_type": "display_data"
    }
   ],
   "source": [
    "y_expect_ls = y_test_nn\n",
    "y_expect_ls = np.argmax(y_expect_ls, axis=1)\n",
    "y_predict_ls = model.predict(x_test_nn)\n",
    "y_predict_ls = np.argmax(y_predict_ls, axis=1)\n",
    "cm = confusion_matrix(y_expect_ls, y_predict_ls)\n",
    "pl.matshow(cm)\n",
    "print (cm)\n",
    "pl.title('Confusion matrix of the lstm\\n')\n",
    "pl.colorbar()\n",
    "pl.show()"
   ]
  },
  {
   "cell_type": "code",
   "execution_count": 27,
   "metadata": {},
   "outputs": [
    {
     "name": "stdout",
     "output_type": "stream",
     "text": [
      "              precision    recall  f1-score   support\n",
      "\n",
      "           0       0.96      0.90      0.93       380\n",
      "           1       0.99      1.00      0.99    187848\n",
      "           2       0.88      0.93      0.91       607\n",
      "           3       0.96      0.33      0.49      1243\n",
      "           4       1.00      0.90      0.95     19637\n",
      "\n",
      "   micro avg       0.99      0.99      0.99    209715\n",
      "   macro avg       0.96      0.81      0.85    209715\n",
      "weighted avg       0.99      0.99      0.99    209715\n",
      "\n"
     ]
    }
   ],
   "source": [
    "print(classification_report(y_expect_ls,y_predict_ls))"
   ]
  },
  {
   "cell_type": "code",
   "execution_count": 28,
   "metadata": {},
   "outputs": [
    {
     "data": {
      "image/svg+xml": [
       "<svg height=\"337pt\" viewBox=\"0.00 0.00 126.00 337.00\" width=\"126pt\" xmlns=\"http://www.w3.org/2000/svg\" xmlns:xlink=\"http://www.w3.org/1999/xlink\">\n",
       "<g class=\"graph\" id=\"graph0\" transform=\"scale(1 1) rotate(0) translate(4 333)\">\n",
       "<title>G</title>\n",
       "<polygon fill=\"#ffffff\" points=\"-4,4 -4,-333 122,-333 122,4 -4,4\" stroke=\"transparent\"/>\n",
       "<!-- 140081838968168 -->\n",
       "<g class=\"node\" id=\"node1\">\n",
       "<title>140081838968168</title>\n",
       "<polygon fill=\"none\" points=\"10,-219.5 10,-255.5 108,-255.5 108,-219.5 10,-219.5\" stroke=\"#000000\"/>\n",
       "<text fill=\"#000000\" font-family=\"Times,serif\" font-size=\"14.00\" text-anchor=\"middle\" x=\"59\" y=\"-233.8\">lstm_1: LSTM</text>\n",
       "</g>\n",
       "<!-- 140081838968280 -->\n",
       "<g class=\"node\" id=\"node2\">\n",
       "<title>140081838968280</title>\n",
       "<polygon fill=\"none\" points=\"10,-146.5 10,-182.5 108,-182.5 108,-146.5 10,-146.5\" stroke=\"#000000\"/>\n",
       "<text fill=\"#000000\" font-family=\"Times,serif\" font-size=\"14.00\" text-anchor=\"middle\" x=\"59\" y=\"-160.8\">lstm_2: LSTM</text>\n",
       "</g>\n",
       "<!-- 140081838968168&#45;&gt;140081838968280 -->\n",
       "<g class=\"edge\" id=\"edge2\">\n",
       "<title>140081838968168-&gt;140081838968280</title>\n",
       "<path d=\"M59,-219.4551C59,-211.3828 59,-201.6764 59,-192.6817\" fill=\"none\" stroke=\"#000000\"/>\n",
       "<polygon fill=\"#000000\" points=\"62.5001,-192.5903 59,-182.5904 55.5001,-192.5904 62.5001,-192.5903\" stroke=\"#000000\"/>\n",
       "</g>\n",
       "<!-- 140081839264936 -->\n",
       "<g class=\"node\" id=\"node3\">\n",
       "<title>140081839264936</title>\n",
       "<polygon fill=\"none\" points=\"10,-73.5 10,-109.5 108,-109.5 108,-73.5 10,-73.5\" stroke=\"#000000\"/>\n",
       "<text fill=\"#000000\" font-family=\"Times,serif\" font-size=\"14.00\" text-anchor=\"middle\" x=\"59\" y=\"-87.8\">lstm_3: LSTM</text>\n",
       "</g>\n",
       "<!-- 140081838968280&#45;&gt;140081839264936 -->\n",
       "<g class=\"edge\" id=\"edge3\">\n",
       "<title>140081838968280-&gt;140081839264936</title>\n",
       "<path d=\"M59,-146.4551C59,-138.3828 59,-128.6764 59,-119.6817\" fill=\"none\" stroke=\"#000000\"/>\n",
       "<polygon fill=\"#000000\" points=\"62.5001,-119.5903 59,-109.5904 55.5001,-119.5904 62.5001,-119.5903\" stroke=\"#000000\"/>\n",
       "</g>\n",
       "<!-- 140081839679472 -->\n",
       "<g class=\"node\" id=\"node4\">\n",
       "<title>140081839679472</title>\n",
       "<polygon fill=\"none\" points=\"8,-.5 8,-36.5 110,-36.5 110,-.5 8,-.5\" stroke=\"#000000\"/>\n",
       "<text fill=\"#000000\" font-family=\"Times,serif\" font-size=\"14.00\" text-anchor=\"middle\" x=\"59\" y=\"-14.8\">dense_3: Dense</text>\n",
       "</g>\n",
       "<!-- 140081839264936&#45;&gt;140081839679472 -->\n",
       "<g class=\"edge\" id=\"edge4\">\n",
       "<title>140081839264936-&gt;140081839679472</title>\n",
       "<path d=\"M59,-73.4551C59,-65.3828 59,-55.6764 59,-46.6817\" fill=\"none\" stroke=\"#000000\"/>\n",
       "<polygon fill=\"#000000\" points=\"62.5001,-46.5903 59,-36.5904 55.5001,-46.5904 62.5001,-46.5903\" stroke=\"#000000\"/>\n",
       "</g>\n",
       "<!-- 140081838968784 -->\n",
       "<g class=\"node\" id=\"node5\">\n",
       "<title>140081838968784</title>\n",
       "<polygon fill=\"none\" points=\"0,-292.5 0,-328.5 118,-328.5 118,-292.5 0,-292.5\" stroke=\"#000000\"/>\n",
       "<text fill=\"#000000\" font-family=\"Times,serif\" font-size=\"14.00\" text-anchor=\"middle\" x=\"59\" y=\"-306.8\">140081838968784</text>\n",
       "</g>\n",
       "<!-- 140081838968784&#45;&gt;140081838968168 -->\n",
       "<g class=\"edge\" id=\"edge1\">\n",
       "<title>140081838968784-&gt;140081838968168</title>\n",
       "<path d=\"M59,-292.4551C59,-284.3828 59,-274.6764 59,-265.6817\" fill=\"none\" stroke=\"#000000\"/>\n",
       "<polygon fill=\"#000000\" points=\"62.5001,-265.5903 59,-255.5904 55.5001,-265.5904 62.5001,-265.5903\" stroke=\"#000000\"/>\n",
       "</g>\n",
       "</g>\n",
       "</svg>"
      ],
      "text/plain": [
       "<IPython.core.display.SVG object>"
      ]
     },
     "execution_count": 28,
     "metadata": {},
     "output_type": "execute_result"
    }
   ],
   "source": [
    "from IPython.display import SVG\n",
    "from keras.utils.vis_utils import model_to_dot\n",
    "\n",
    "SVG(model_to_dot(model).create(prog='dot', format='svg'))"
   ]
  },
  {
   "cell_type": "code",
   "execution_count": 36,
   "metadata": {},
   "outputs": [],
   "source": [
    "from keras.utils import plot_model\n",
    "plot_model(model,show_shapes=True,rankdir='TB',to_file='lstm.png')"
   ]
  },
  {
   "cell_type": "code",
   "execution_count": null,
   "metadata": {},
   "outputs": [],
   "source": []
  }
 ],
 "metadata": {
  "kernelspec": {
   "display_name": "Python 3",
   "language": "python",
   "name": "python3"
  },
  "language_info": {
   "codemirror_mode": {
    "name": "ipython",
    "version": 3
   },
   "file_extension": ".py",
   "mimetype": "text/x-python",
   "name": "python",
   "nbconvert_exporter": "python",
   "pygments_lexer": "ipython3",
   "version": "3.7.2"
  }
 },
 "nbformat": 4,
 "nbformat_minor": 2
}
