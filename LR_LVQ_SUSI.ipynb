{
 "cells": [
  {
   "cell_type": "code",
   "execution_count": 1,
   "metadata": {},
   "outputs": [],
   "source": [
    "import numpy as np\n",
    "import pandas as pd"
   ]
  },
  {
   "cell_type": "code",
   "execution_count": 2,
   "metadata": {},
   "outputs": [],
   "source": [
    "data = pd.read_csv('final dataset.csv')"
   ]
  },
  {
   "cell_type": "code",
   "execution_count": 3,
   "metadata": {},
   "outputs": [],
   "source": [
    "data = data.drop_duplicates()"
   ]
  },
  {
   "cell_type": "code",
   "execution_count": 4,
   "metadata": {},
   "outputs": [
    {
     "data": {
      "text/plain": [
       "0          False\n",
       "1          False\n",
       "2          False\n",
       "3          False\n",
       "4          False\n",
       "5          False\n",
       "6          False\n",
       "7          False\n",
       "8          False\n",
       "9          False\n",
       "10         False\n",
       "11         False\n",
       "12         False\n",
       "13         False\n",
       "14         False\n",
       "15         False\n",
       "16         False\n",
       "17         False\n",
       "18         False\n",
       "19         False\n",
       "20         False\n",
       "21         False\n",
       "22         False\n",
       "23         False\n",
       "24         False\n",
       "25         False\n",
       "26         False\n",
       "27         False\n",
       "28         False\n",
       "29         False\n",
       "           ...  \n",
       "1048545    False\n",
       "1048546    False\n",
       "1048547    False\n",
       "1048548    False\n",
       "1048549    False\n",
       "1048550    False\n",
       "1048551    False\n",
       "1048552    False\n",
       "1048553    False\n",
       "1048554    False\n",
       "1048555    False\n",
       "1048556    False\n",
       "1048557    False\n",
       "1048558    False\n",
       "1048559    False\n",
       "1048560    False\n",
       "1048561    False\n",
       "1048562    False\n",
       "1048563    False\n",
       "1048564    False\n",
       "1048565    False\n",
       "1048566    False\n",
       "1048567    False\n",
       "1048568    False\n",
       "1048569    False\n",
       "1048570    False\n",
       "1048571    False\n",
       "1048572    False\n",
       "1048573    False\n",
       "1048574    False\n",
       "Length: 1048575, dtype: bool"
      ]
     },
     "execution_count": 4,
     "metadata": {},
     "output_type": "execute_result"
    }
   ],
   "source": [
    "data.duplicated(subset=None, keep='first')"
   ]
  },
  {
   "cell_type": "code",
   "execution_count": 5,
   "metadata": {},
   "outputs": [],
   "source": [
    "x = data.iloc[:,:-1].values\n",
    "y = data.iloc[:,-1].values"
   ]
  },
  {
   "cell_type": "code",
   "execution_count": 6,
   "metadata": {},
   "outputs": [],
   "source": [
    "from sklearn.preprocessing import LabelEncoder\n",
    "le = LabelEncoder()\n",
    "x[:,5] = le.fit_transform(x[:,5])\n",
    "x[:,7] = le.fit_transform(x[:,7])\n",
    "x[:,12] = le.fit_transform(x[:,12])\n",
    "x[:,13] = le.fit_transform(x[:,13])\n",
    "y = le.fit_transform(y)"
   ]
  },
  {
   "cell_type": "code",
   "execution_count": 7,
   "metadata": {},
   "outputs": [],
   "source": [
    "from sklearn.preprocessing import MinMaxScaler"
   ]
  },
  {
   "cell_type": "code",
   "execution_count": 8,
   "metadata": {},
   "outputs": [],
   "source": [
    "scaler = MinMaxScaler(feature_range=(0, 1))"
   ]
  },
  {
   "cell_type": "code",
   "execution_count": 9,
   "metadata": {},
   "outputs": [
    {
     "name": "stderr",
     "output_type": "stream",
     "text": [
      "/home/turjoy/anaconda3/envs/Arafat/lib/python3.6/site-packages/sklearn/utils/validation.py:595: DataConversionWarning: Data with input dtype object was converted to float64 by MinMaxScaler.\n",
      "  warnings.warn(msg, DataConversionWarning)\n"
     ]
    }
   ],
   "source": [
    "x= scaler.fit_transform(x)"
   ]
  },
  {
   "cell_type": "code",
   "execution_count": 10,
   "metadata": {},
   "outputs": [],
   "source": [
    "from sklearn.model_selection import train_test_split\n",
    "x_train, x_test, y_train, y_test = train_test_split(\n",
    "     x, y, test_size = 0.2, random_state = 100) "
   ]
  },
  {
   "cell_type": "code",
   "execution_count": 11,
   "metadata": {},
   "outputs": [],
   "source": [
    "from sklearn.metrics import classification_report"
   ]
  },
  {
   "cell_type": "code",
   "execution_count": 12,
   "metadata": {},
   "outputs": [],
   "source": [
    "from sklearn.linear_model import LogisticRegression\n",
    "Logistic_regression = LogisticRegression(random_state=0, solver='lbfgs', multi_class='multinomial',max_iter=1000).fit(x_train, y_train)\n",
    "prediction = Logistic_regression.predict(x_test)"
   ]
  },
  {
   "cell_type": "code",
   "execution_count": 16,
   "metadata": {},
   "outputs": [],
   "source": [
    "from sklearn.metrics import confusion_matrix\n",
    "import pylab as pl"
   ]
  },
  {
   "cell_type": "code",
   "execution_count": 17,
   "metadata": {},
   "outputs": [
    {
     "name": "stdout",
     "output_type": "stream",
     "text": [
      "[[   359      0     21      0      0]\n",
      " [     5 187820     23      0      0]\n",
      " [     0     40    567      0      0]\n",
      " [     6    800     33    404      0]\n",
      " [     0   1899      0      0  17738]]\n"
     ]
    },
    {
     "data": {
      "image/png": "[encoded data removed]",
      "text/plain": [
       "<Figure size 288x288 with 2 Axes>"
      ]
     },
     "metadata": {
      "needs_background": "light"
     },
     "output_type": "display_data"
    }
   ],
   "source": [
    "y_expect = y_test\n",
    "cmn = confusion_matrix(y_expect, prediction)\n",
    "pl.matshow(cmn)\n",
    "print (cmn)\n",
    "pl.title('Confusion matrix of the logistic regression\\n')\n",
    "pl.colorbar()\n",
    "pl.show()"
   ]
  },
  {
   "cell_type": "code",
   "execution_count": 18,
   "metadata": {},
   "outputs": [
    {
     "name": "stdout",
     "output_type": "stream",
     "text": [
      "              precision    recall  f1-score   support\n",
      "\n",
      "           0       0.97      0.94      0.96       380\n",
      "           1       0.99      1.00      0.99    187848\n",
      "           2       0.88      0.93      0.91       607\n",
      "           3       1.00      0.33      0.49      1243\n",
      "           4       1.00      0.90      0.95     19637\n",
      "\n",
      "   micro avg       0.99      0.99      0.99    209715\n",
      "   macro avg       0.97      0.82      0.86    209715\n",
      "weighted avg       0.99      0.99      0.99    209715\n",
      "\n",
      "98.65198006818778\n"
     ]
    }
   ],
   "source": [
    "from sklearn.metrics import accuracy_score\n",
    "print(classification_report(y_expect,prediction))\n",
    "print (accuracy_score(y_expect, prediction)*100)"
   ]
  },
  {
   "cell_type": "code",
   "execution_count": 19,
   "metadata": {},
   "outputs": [],
   "source": [
    "from sklearn.decomposition import PCA \n",
    "  \n",
    "pca = PCA(n_components = 2) \n",
    "  \n",
    "x_train = pca.fit_transform(x_train) \n",
    "x_test = pca.transform(x_test) \n",
    "  \n",
    "explained_variance = pca.explained_variance_ratio_ "
   ]
  },
  {
   "cell_type": "code",
   "execution_count": 20,
   "metadata": {},
   "outputs": [
    {
     "data": {
      "text/plain": [
       "LogisticRegression(C=1.0, class_weight=None, dual=False, fit_intercept=True,\n",
       "          intercept_scaling=1, max_iter=1000, multi_class='multinomial',\n",
       "          n_jobs=None, penalty='l2', random_state=100, solver='lbfgs',\n",
       "          tol=0.0001, verbose=0, warm_start=False)"
      ]
     },
     "execution_count": 20,
     "metadata": {},
     "output_type": "execute_result"
    }
   ],
   "source": [
    "classifier = LogisticRegression(random_state = 100,solver='lbfgs', multi_class='multinomial',max_iter=1000) \n",
    "classifier.fit(x_train, y_train) "
   ]
  },
  {
   "cell_type": "code",
   "execution_count": 21,
   "metadata": {},
   "outputs": [
    {
     "name": "stdout",
     "output_type": "stream",
     "text": [
      "[[     0    380      0      0      0]\n",
      " [     0 187848      0      0      0]\n",
      " [     0    607      0      0      0]\n",
      " [     0   1243      0      0      0]\n",
      " [     0  19637      0      0      0]]\n"
     ]
    },
    {
     "data": {
      "image/png": "[encoded data removed]",
      "text/plain": [
       "<Figure size 288x288 with 2 Axes>"
      ]
     },
     "metadata": {
      "needs_background": "light"
     },
     "output_type": "display_data"
    }
   ],
   "source": [
    "y_pred = classifier.predict(x_test) \n",
    "cmn = confusion_matrix(y_test, y_pred) \n",
    "pl.matshow(cmn)\n",
    "print (cmn)\n",
    "pl.title('Confusion matrix of the logistic regressionpca\\n')\n",
    "pl.colorbar()\n",
    "pl.show()"
   ]
  },
  {
   "cell_type": "code",
   "execution_count": 22,
   "metadata": {},
   "outputs": [
    {
     "name": "stdout",
     "output_type": "stream",
     "text": [
      "              precision    recall  f1-score   support\n",
      "\n",
      "           0       0.00      0.00      0.00       380\n",
      "           1       0.90      1.00      0.94    187848\n",
      "           2       0.00      0.00      0.00       607\n",
      "           3       0.00      0.00      0.00      1243\n",
      "           4       0.00      0.00      0.00     19637\n",
      "\n",
      "   micro avg       0.90      0.90      0.90    209715\n",
      "   macro avg       0.18      0.20      0.19    209715\n",
      "weighted avg       0.80      0.90      0.85    209715\n",
      "\n",
      "89.57299191760247\n"
     ]
    },
    {
     "name": "stderr",
     "output_type": "stream",
     "text": [
      "/home/turjoy/anaconda3/envs/Arafat/lib/python3.6/site-packages/sklearn/metrics/classification.py:1143: UndefinedMetricWarning: Precision and F-score are ill-defined and being set to 0.0 in labels with no predicted samples.\n",
      "  'precision', 'predicted', average, warn_for)\n"
     ]
    }
   ],
   "source": [
    "print(classification_report(y_test,y_pred))\n",
    "print (accuracy_score(y_test, y_pred)*100)"
   ]
  },
  {
   "cell_type": "code",
   "execution_count": 25,
   "metadata": {},
   "outputs": [],
   "source": [
    "from LVQClassifier import LVQClassifier as LVQ"
   ]
  },
  {
   "cell_type": "code",
   "execution_count": 26,
   "metadata": {},
   "outputs": [],
   "source": [
    "x_train, x_test, y_train, y_test = train_test_split(\n",
    "     x, y, test_size = 0.2, random_state = 100) "
   ]
  },
  {
   "cell_type": "code",
   "execution_count": 27,
   "metadata": {},
   "outputs": [
    {
     "data": {
      "text/plain": [
       "<LVQClassifier.LVQClassifier at 0x7f2f0237a2b0>"
      ]
     },
     "execution_count": 27,
     "metadata": {},
     "output_type": "execute_result"
    }
   ],
   "source": [
    "clf = LVQ(n_components=27,epochs=10,alpha=0.5,\n",
    "          initial_state='Uniform',LVQ2=True)\n",
    "clf.fit(x_train,y_train)"
   ]
  },
  {
   "cell_type": "code",
   "execution_count": 28,
   "metadata": {},
   "outputs": [
    {
     "name": "stdout",
     "output_type": "stream",
     "text": [
      "[[   288      0      0     92      0]\n",
      " [  1818 175284      0   7999   2747]\n",
      " [   568     37      0      2      0]\n",
      " [    65    735      0    433     10]\n",
      " [     6   1778      0     90  17763]]\n"
     ]
    },
    {
     "data": {
      "image/png": "[encoded data removed]",
      "text/plain": [
       "<Figure size 288x288 with 2 Axes>"
      ]
     },
     "metadata": {
      "needs_background": "light"
     },
     "output_type": "display_data"
    }
   ],
   "source": [
    "y_pred = clf.predict(x_test) \n",
    "cmn = confusion_matrix(y_test, y_pred) \n",
    "pl.matshow(cmn)\n",
    "print (cmn)\n",
    "pl.title('Confusion matrix of the logistic regressionpca\\n')\n",
    "pl.colorbar()\n",
    "pl.show()"
   ]
  },
  {
   "cell_type": "code",
   "execution_count": 29,
   "metadata": {},
   "outputs": [
    {
     "name": "stdout",
     "output_type": "stream",
     "text": [
      "              precision    recall  f1-score   support\n",
      "\n",
      "           0       0.10      0.76      0.18       380\n",
      "           1       0.99      0.93      0.96    187848\n",
      "           2       0.00      0.00      0.00       607\n",
      "           3       0.05      0.35      0.09      1243\n",
      "           4       0.87      0.90      0.88     19637\n",
      "\n",
      "   micro avg       0.92      0.92      0.92    209715\n",
      "   macro avg       0.40      0.59      0.42    209715\n",
      "weighted avg       0.96      0.92      0.94    209715\n",
      "\n",
      "92.39587058627184\n"
     ]
    }
   ],
   "source": [
    "print(classification_report(y_test,y_pred))\n",
    "print (accuracy_score(y_test, y_pred)*100)"
   ]
  },
  {
   "cell_type": "code",
   "execution_count": 30,
   "metadata": {},
   "outputs": [],
   "source": [
    "import susi"
   ]
  },
  {
   "cell_type": "code",
   "execution_count": 31,
   "metadata": {},
   "outputs": [
    {
     "name": "stdout",
     "output_type": "stream",
     "text": [
      "0.3587392413513578\n"
     ]
    }
   ],
   "source": [
    "som = susi.SOMClassifier(\n",
    "        n_rows=40,\n",
    "        n_columns=40,\n",
    "        n_iter_unsupervised=100,\n",
    "        n_iter_supervised=100,\n",
    "        learning_rate_start=0.5,\n",
    "        learning_rate_end=0.05,\n",
    "        # do_class_weighting=True,\n",
    "        random_state=100)\n",
    "som.fit(x_train, y_train)\n",
    "y_pred = som.predict(x_test)\n",
    "print(som.score(x_test, y_test))"
   ]
  },
  {
   "cell_type": "code",
   "execution_count": 32,
   "metadata": {},
   "outputs": [
    {
     "name": "stdout",
     "output_type": "stream",
     "text": [
      "[[     0     57    255      0     68]\n",
      " [  2345  59714 118504      0   7285]\n",
      " [     0     14    446      0    147]\n",
      " [     6    256    690      0    291]\n",
      " [    21    635   3908      0  15073]]\n"
     ]
    },
    {
     "data": {
      "image/png": "[encoded data removed]",
      "text/plain": [
       "<Figure size 288x288 with 2 Axes>"
      ]
     },
     "metadata": {
      "needs_background": "light"
     },
     "output_type": "display_data"
    }
   ],
   "source": [
    "cm = confusion_matrix(y_test, y_pred) \n",
    "pl.matshow(cm)\n",
    "print (cm)\n",
    "pl.title('Confusion matrix of the susi\\n')\n",
    "pl.colorbar()\n",
    "pl.show()\n"
   ]
  },
  {
   "cell_type": "code",
   "execution_count": 33,
   "metadata": {},
   "outputs": [
    {
     "name": "stdout",
     "output_type": "stream",
     "text": [
      "              precision    recall  f1-score   support\n",
      "\n",
      "           0       0.00      0.00      0.00       380\n",
      "           1       0.98      0.32      0.48    187848\n",
      "           2       0.00      0.73      0.01       607\n",
      "           3       0.00      0.00      0.00      1243\n",
      "           4       0.66      0.77      0.71     19637\n",
      "\n",
      "   micro avg       0.36      0.36      0.36    209715\n",
      "   macro avg       0.33      0.36      0.24    209715\n",
      "weighted avg       0.94      0.36      0.50    209715\n",
      "\n",
      "35.87392413513578\n"
     ]
    },
    {
     "name": "stderr",
     "output_type": "stream",
     "text": [
      "/home/turjoy/anaconda3/envs/Arafat/lib/python3.6/site-packages/sklearn/metrics/classification.py:1143: UndefinedMetricWarning: Precision and F-score are ill-defined and being set to 0.0 in labels with no predicted samples.\n",
      "  'precision', 'predicted', average, warn_for)\n"
     ]
    }
   ],
   "source": [
    "print(classification_report(y_test,y_pred))\n",
    "print (accuracy_score(y_test, y_pred)*100)"
   ]
  },
  {
   "cell_type": "code",
   "execution_count": null,
   "metadata": {},
   "outputs": [],
   "source": []
  }
 ],
 "metadata": {
  "kernelspec": {
   "display_name": "Python 3",
   "language": "python",
   "name": "python3"
  },
  "language_info": {
   "codemirror_mode": {
    "name": "ipython",
    "version": 3
   },
   "file_extension": ".py",
   "mimetype": "text/x-python",
   "name": "python",
   "nbconvert_exporter": "python",
   "pygments_lexer": "ipython3",
   "version": "3.7.2"
  }
 },
 "nbformat": 4,
 "nbformat_minor": 2
}
